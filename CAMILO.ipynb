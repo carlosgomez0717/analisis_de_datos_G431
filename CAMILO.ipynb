{
  "nbformat": 4,
  "nbformat_minor": 0,
  "metadata": {
    "colab": {
      "provenance": [],
      "authorship_tag": "ABX9TyOpPZXrMQG+zK5Hcy1dNwgn",
      "include_colab_link": true
    },
    "kernelspec": {
      "name": "python3",
      "display_name": "Python 3"
    },
    "language_info": {
      "name": "python"
    }
  },
  "cells": [
    {
      "cell_type": "markdown",
      "metadata": {
        "id": "view-in-github",
        "colab_type": "text"
      },
      "source": [
        "<a href=\"https://colab.research.google.com/github/carlosgomez0717/analisis_de_datos_G431/blob/main/CAMILO.ipynb\" target=\"_parent\"><img src=\"https://colab.research.google.com/assets/colab-badge.svg\" alt=\"Open In Colab\"/></a>"
      ]
    },
    {
      "cell_type": "code",
      "execution_count": 2,
      "metadata": {
        "colab": {
          "base_uri": "https://localhost:8080/"
        },
        "id": "JsZOp_5q_yg2",
        "outputId": "b9535701-2f1f-43ec-8acd-b2ba85cd5ff6"
      },
      "outputs": [
        {
          "output_type": "stream",
          "name": "stdout",
          "text": [
            "fatal: destination path 'analisis_de_datos_G431' already exists and is not an empty directory.\n"
          ]
        }
      ],
      "source": [
        "! git clone https://github.com/carlosgomez0717/analisis_de_datos_G431.git"
      ]
    },
    {
      "cell_type": "code",
      "source": [
        "# CAMBIAR LA RUTA\n",
        "%cd /content/analisis_de_datos_G431/Apruebagit431.ipynb\n",
        "\n"
      ],
      "metadata": {
        "colab": {
          "base_uri": "https://localhost:8080/"
        },
        "id": "wYy2pf3VA9xf",
        "outputId": "fb395d46-bd5b-45fc-a5a3-933f4f558ff3"
      },
      "execution_count": 4,
      "outputs": [
        {
          "output_type": "stream",
          "name": "stdout",
          "text": [
            "[Errno 20] Not a directory: '/content/analisis_de_datos_G431/Apruebagit431.ipynb'\n",
            "/content\n"
          ]
        }
      ]
    }
  ]
}